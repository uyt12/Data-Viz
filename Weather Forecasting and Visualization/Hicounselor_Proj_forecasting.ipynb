{
 "cells": [
  {
   "cell_type": "code",
   "execution_count": 1,
   "id": "93ea219d",
   "metadata": {},
   "outputs": [],
   "source": [
    "import pandas as pd\n",
    "\n",
    "# Load the dataset into a DataFrame\n",
    "df = pd.read_csv('weather_datasetcleaned1.csv')\n"
   ]
  },
  {
   "cell_type": "code",
   "execution_count": 2,
   "id": "c541f5cb",
   "metadata": {},
   "outputs": [],
   "source": [
    "# Convert the Date column to a DateTime index\n",
    "df['Date'] = pd.to_datetime(df['Date'])\n",
    "df.set_index('Date', inplace=True)\n"
   ]
  },
  {
   "cell_type": "code",
   "execution_count": 26,
   "id": "068b8f96",
   "metadata": {},
   "outputs": [],
   "source": [
    "import pandas as pd\n",
    "from sklearn.ensemble import RandomForestRegressor\n",
    "\n",
    "# Load the dataset\n",
    "df = pd.read_csv('weather_datasetcleaned1.csv', parse_dates=['Date'])\n",
    "\n",
    "# Split the data into training and testing sets\n",
    "train = df.loc[df['Date'] < '2034']\n",
    "test = df.loc[(df['Date'] >= '2034') & (df['Date'] < '2036')]\n",
    "\n",
    "# Set the features and target variables\n",
    "features = df.columns[1:]\n",
    "\n",
    "# Train a separate model for each feature\n",
    "models = {}\n",
    "for feature in features:\n",
    "    model = RandomForestRegressor(n_estimators=100, random_state=42)\n",
    "    model.fit(train[features], train[feature])\n",
    "    models[feature] = model\n",
    "\n",
    "# Use the trained models to predict the values for 2034 and 2035\n",
    "predictions = []\n",
    "for i, row in test.iterrows():\n",
    "    row_predictions = []\n",
    "    for feature in features:\n",
    "        model = models[feature]\n",
    "        pred = model.predict([[row[feature]]])[0]\n",
    "        row_predictions.append(pred)\n",
    "    row_predictions.insert(0, row['Date'])\n",
    "    predictions.append(row_predictions)\n",
    "\n",
    "# Create a new dataframe for the predictions and save to CSV\n",
    "cols = ['Date'] + list(features)\n",
    "pred_df = pd.DataFrame(predictions, columns=cols)\n",
    "pred_df.to_csv('weather_predictions.csv', index=False)\n"
   ]
  },
  {
   "cell_type": "code",
   "execution_count": 28,
   "id": "ec3e7d24",
   "metadata": {},
   "outputs": [
    {
     "data": {
      "text/plain": [
       "[]"
      ]
     },
     "execution_count": 28,
     "metadata": {},
     "output_type": "execute_result"
    }
   ],
   "source": [
    "predictions"
   ]
  },
  {
   "cell_type": "code",
   "execution_count": 27,
   "id": "05485075",
   "metadata": {},
   "outputs": [
    {
     "data": {
      "text/html": [
       "<div>\n",
       "<style scoped>\n",
       "    .dataframe tbody tr th:only-of-type {\n",
       "        vertical-align: middle;\n",
       "    }\n",
       "\n",
       "    .dataframe tbody tr th {\n",
       "        vertical-align: top;\n",
       "    }\n",
       "\n",
       "    .dataframe thead th {\n",
       "        text-align: right;\n",
       "    }\n",
       "</style>\n",
       "<table border=\"1\" class=\"dataframe\">\n",
       "  <thead>\n",
       "    <tr style=\"text-align: right;\">\n",
       "      <th></th>\n",
       "      <th>Date</th>\n",
       "      <th>Temperature_F</th>\n",
       "      <th>Avg_Humidity_Pct</th>\n",
       "      <th>Avg_Dewpoint_F</th>\n",
       "      <th>Avg_Barometer_In</th>\n",
       "      <th>Avg_Windspeed_Mph</th>\n",
       "      <th>Avg_Gustspeed_Mph</th>\n",
       "      <th>Avg_Direction_Deg</th>\n",
       "      <th>Rainfall_Month_In</th>\n",
       "      <th>Rainfall_Year_In</th>\n",
       "      <th>...</th>\n",
       "      <th>Max_Temperature_F</th>\n",
       "      <th>Min_Temperature_F</th>\n",
       "      <th>Maximum_humidity</th>\n",
       "      <th>Minimum_humidity</th>\n",
       "      <th>Max_Pressure_In</th>\n",
       "      <th>Min_Pressure_In</th>\n",
       "      <th>Max_Windspeed_Mph</th>\n",
       "      <th>Max_Gustspeed_Mph</th>\n",
       "      <th>Max_Heat_Index_F</th>\n",
       "      <th>Diff_Pressure</th>\n",
       "    </tr>\n",
       "  </thead>\n",
       "  <tbody>\n",
       "  </tbody>\n",
       "</table>\n",
       "<p>0 rows × 21 columns</p>\n",
       "</div>"
      ],
      "text/plain": [
       "Empty DataFrame\n",
       "Columns: [Date, Temperature_F, Avg_Humidity_Pct, Avg_Dewpoint_F, Avg_Barometer_In, Avg_Windspeed_Mph, Avg_Gustspeed_Mph, Avg_Direction_Deg, Rainfall_Month_In, Rainfall_Year_In, Max_Rain_Per_Minute, Max_Temperature_F, Min_Temperature_F, Maximum_humidity, Minimum_humidity, Max_Pressure_In, Min_Pressure_In, Max_Windspeed_Mph, Max_Gustspeed_Mph, Max_Heat_Index_F, Diff_Pressure]\n",
       "Index: []\n",
       "\n",
       "[0 rows x 21 columns]"
      ]
     },
     "execution_count": 27,
     "metadata": {},
     "output_type": "execute_result"
    }
   ],
   "source": [
    "pred_df"
   ]
  },
  {
   "cell_type": "code",
   "execution_count": 30,
   "id": "3f9b497f",
   "metadata": {},
   "outputs": [
    {
     "data": {
      "text/plain": [
       "Index(['Date', 'Temperature_F', 'Avg_Humidity_Pct', 'Avg_Dewpoint_F',\n",
       "       'Avg_Barometer_In', 'Avg_Windspeed_Mph', 'Avg_Gustspeed_Mph',\n",
       "       'Avg_Direction_Deg', 'Rainfall_Month_In', 'Rainfall_Year_In',\n",
       "       'Max_Rain_Per_Minute', 'Max_Temperature_F', 'Min_Temperature_F',\n",
       "       'Maximum_humidity', 'Minimum_humidity', 'Max_Pressure_In',\n",
       "       'Min_Pressure_In', 'Max_Windspeed_Mph', 'Max_Gustspeed_Mph',\n",
       "       'Max_Heat_Index_F', 'Diff_Pressure'],\n",
       "      dtype='object')"
      ]
     },
     "execution_count": 30,
     "metadata": {},
     "output_type": "execute_result"
    }
   ],
   "source": [
    "df.columns"
   ]
  },
  {
   "cell_type": "code",
   "execution_count": null,
   "id": "7637e684",
   "metadata": {},
   "outputs": [],
   "source": []
  }
 ],
 "metadata": {
  "kernelspec": {
   "display_name": "Python 3 (ipykernel)",
   "language": "python",
   "name": "python3"
  },
  "language_info": {
   "codemirror_mode": {
    "name": "ipython",
    "version": 3
   },
   "file_extension": ".py",
   "mimetype": "text/x-python",
   "name": "python",
   "nbconvert_exporter": "python",
   "pygments_lexer": "ipython3",
   "version": "3.9.12"
  }
 },
 "nbformat": 4,
 "nbformat_minor": 5
}
